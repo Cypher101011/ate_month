{
 "cells": [
  {
   "cell_type": "raw",
   "id": "8327d2f2-8491-4684-abf4-a2a912abdfad",
   "metadata": {},
   "source": [
    "progrm for addition,substraction adn dividsion \n"
   ]
  },
  {
   "cell_type": "code",
   "execution_count": 2,
   "id": "eda02fb2-a075-4c80-a2b4-fa23648df24b",
   "metadata": {},
   "outputs": [],
   "source": [
    "x=2\n",
    "y=3\n"
   ]
  },
  {
   "cell_type": "markdown",
   "id": "b60760f6-7e10-49e7-99bd-7ef21ef7f932",
   "metadata": {},
   "source": [
    "print('addition',x+y)"
   ]
  },
  {
   "cell_type": "code",
   "execution_count": 7,
   "id": "26207fd7-5d79-479f-a866-b6072550124a",
   "metadata": {},
   "outputs": [
    {
     "name": "stdout",
     "output_type": "stream",
     "text": [
      "substraction -1\n"
     ]
    }
   ],
   "source": [
    "print('substraction',x-y)"
   ]
  },
  {
   "cell_type": "code",
   "execution_count": 8,
   "id": "44a42b2e-fe43-4163-b20c-ee735a2b24d4",
   "metadata": {},
   "outputs": [
    {
     "name": "stdout",
     "output_type": "stream",
     "text": [
      "division 0.6666666666666666\n"
     ]
    }
   ],
   "source": [
    "print('division',x/y)"
   ]
  },
  {
   "cell_type": "code",
   "execution_count": 9,
   "id": "bebc598e-38d3-4a2f-8cc9-b3233fbbb55c",
   "metadata": {},
   "outputs": [
    {
     "name": "stdout",
     "output_type": "stream",
     "text": [
      "multiplication 6\n"
     ]
    }
   ],
   "source": [
    "print('multiplication',x*y)"
   ]
  }
 ],
 "metadata": {
  "kernelspec": {
   "display_name": "Python 3 (ipykernel)",
   "language": "python",
   "name": "python3"
  },
  "language_info": {
   "codemirror_mode": {
    "name": "ipython",
    "version": 3
   },
   "file_extension": ".py",
   "mimetype": "text/x-python",
   "name": "python",
   "nbconvert_exporter": "python",
   "pygments_lexer": "ipython3",
   "version": "3.13.5"
  }
 },
 "nbformat": 4,
 "nbformat_minor": 5
}
