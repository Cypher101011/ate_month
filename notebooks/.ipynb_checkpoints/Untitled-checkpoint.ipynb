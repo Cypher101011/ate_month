{
 "cells": [
  {
   "cell_type": "code",
   "execution_count": null,
   "id": "c8e8652b-355b-4141-8ee1-4ec4e396d691",
   "metadata": {},
   "outputs": [],
   "source": []
  }
 ],
 "metadata": {
  "kernelspec": {
   "display_name": "",
   "name": ""
  },
  "language_info": {
   "name": ""
  }
 },
 "nbformat": 4,
 "nbformat_minor": 5
}
